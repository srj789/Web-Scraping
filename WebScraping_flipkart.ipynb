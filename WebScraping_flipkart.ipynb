{
 "cells": [
  {
   "cell_type": "code",
   "execution_count": 11,
   "metadata": {},
   "outputs": [],
   "source": [
    "import requests\n",
    "from bs4 import BeautifulSoup\n",
    "url=\"https://www.flipkart.com/search?q=mi%20phones&otracker=search&otracker1=search&marketplace=FLIPKART&as-show=on&as=off\"\n",
    "r=requests.get(url).content\n",
    "soup=BeautifulSoup(r,'html.parser')\n",
    "#print(soup.prettify())"
   ]
  },
  {
   "cell_type": "code",
   "execution_count": 2,
   "metadata": {},
   "outputs": [
    {
     "data": {
      "text/plain": [
       "30"
      ]
     },
     "execution_count": 2,
     "metadata": {},
     "output_type": "execute_result"
    }
   ],
   "source": [
    "import csv\n",
    "f = csv.writer(open('Products.csv', 'w'))\n",
    "f.writerow(['Product_Name', 'Pricing','Ratings'])"
   ]
  },
  {
   "cell_type": "code",
   "execution_count": 3,
   "metadata": {},
   "outputs": [
    {
     "name": "stdout",
     "output_type": "stream",
     "text": [
      "24\n"
     ]
    }
   ],
   "source": [
    "name=soup.find_all(\"div\", {\"class\":\"col col-7-12\"})\n",
    "print(len(name))"
   ]
  },
  {
   "cell_type": "code",
   "execution_count": 4,
   "metadata": {},
   "outputs": [
    {
     "name": "stdout",
     "output_type": "stream",
     "text": [
      "Redmi Note 7 Pro (Space Black, 64 GB)\n"
     ]
    }
   ],
   "source": [
    "name1=soup.find_all(\"div\",{\"class\":\"_3wU53n\"})\n",
    "print(name1[0].text)"
   ]
  },
  {
   "cell_type": "code",
   "execution_count": 5,
   "metadata": {},
   "outputs": [
    {
     "name": "stdout",
     "output_type": "stream",
     "text": [
      "₹13,999\n"
     ]
    }
   ],
   "source": [
    "price=soup.find_all(\"div\", {\"class\":\"_1vC4OE _2rQ-NK\"})\n",
    "print(price[0].text)"
   ]
  },
  {
   "cell_type": "code",
   "execution_count": 6,
   "metadata": {},
   "outputs": [
    {
     "name": "stdout",
     "output_type": "stream",
     "text": [
      "4.6\n"
     ]
    }
   ],
   "source": [
    "rating=soup.find_all(\"div\", {\"class\":\"hGSR34\"})\n",
    "print(rating[0].text)"
   ]
  },
  {
   "cell_type": "code",
   "execution_count": 7,
   "metadata": {},
   "outputs": [
    {
     "name": "stdout",
     "output_type": "stream",
     "text": [
      "Redmi Note 7 Pro (Space Black, 64 GB)\n",
      "Price : ₹13,999\n",
      "Rating: 4.6\n",
      "------------------------------------\n"
     ]
    }
   ],
   "source": [
    "print(name1[0].text)\n",
    "print(\"Price : \" +price[0].text)\n",
    "print(\"Rating: \" +rating[0].text)\n",
    "print(\"------------------------------------\")"
   ]
  },
  {
   "cell_type": "code",
   "execution_count": 8,
   "metadata": {},
   "outputs": [
    {
     "name": "stdout",
     "output_type": "stream",
     "text": [
      "Redmi Note 7 Pro (Space Black, 64 GB)\n",
      "₹13,999\n",
      "4.6\n",
      "--------------------------------------------------------------------\n",
      "Redmi Note 7 Pro (Neptune Blue, 64 GB)\n",
      "₹13,999\n",
      "4.6\n",
      "--------------------------------------------------------------------\n",
      "Redmi Y2 (Black, 32 GB)\n",
      "₹8,999\n",
      "4.5\n",
      "--------------------------------------------------------------------\n",
      "Redmi Note 7S (Sapphire Blue, 32 GB)\n",
      "₹10,999\n",
      "4.4\n",
      "--------------------------------------------------------------------\n",
      "Redmi Note 7 Pro (Neptune Blue, 128 GB)\n",
      "₹16,999\n",
      "4.6\n",
      "--------------------------------------------------------------------\n",
      "Redmi Note 7S (Onyx Black, 32 GB)\n",
      "₹10,999\n",
      "4.4\n",
      "--------------------------------------------------------------------\n",
      "Redmi 6 (Gold, 64 GB)\n",
      "₹8,499\n",
      "4.4\n",
      "--------------------------------------------------------------------\n",
      "Redmi Note 7 Pro (Space Black, 128 GB)\n",
      "₹16,999\n",
      "4.6\n",
      "--------------------------------------------------------------------\n",
      "Redmi Y2 (Gold, 32 GB)\n",
      "₹8,999\n",
      "4.5\n",
      "--------------------------------------------------------------------\n",
      "Redmi 6 (Rose Gold, 64 GB)\n",
      "₹8,499\n",
      "4.4\n",
      "--------------------------------------------------------------------\n",
      "Redmi Note 7S (Ruby Red, 32 GB)\n",
      "₹10,999\n",
      "4.4\n",
      "--------------------------------------------------------------------\n",
      "Redmi Note 7 Pro (Nebula Red, 64 GB)\n",
      "₹13,999\n",
      "4.6\n",
      "--------------------------------------------------------------------\n",
      "Redmi 6 (Blue, 64 GB)\n",
      "₹8,499\n",
      "4.4\n",
      "--------------------------------------------------------------------\n",
      "Redmi Note 7 Pro (Nebula Red, 128 GB)\n",
      "₹16,999\n",
      "4.6\n",
      "--------------------------------------------------------------------\n",
      "Redmi 6 (Black, 64 GB)\n",
      "₹8,499\n",
      "4.4\n",
      "--------------------------------------------------------------------\n",
      "Redmi Go (Blue, 16 GB)\n",
      "₹4,799\n",
      "4.3\n",
      "--------------------------------------------------------------------\n",
      "Redmi Note 6 Pro (Red, 64 GB)\n",
      "₹11,999\n",
      "4.5\n",
      "--------------------------------------------------------------------\n",
      "Redmi Note 5 Pro (Gold, 64 GB)\n",
      "₹13,999\n",
      "4.5\n",
      "--------------------------------------------------------------------\n",
      "Redmi Note 5 Pro (Gold, 64 GB)\n",
      "₹12,999\n",
      "4.5\n",
      "--------------------------------------------------------------------\n",
      "Redmi Y2 (Blue, 32 GB)\n",
      "₹8,999\n",
      "4.5\n",
      "--------------------------------------------------------------------\n",
      "Redmi Go (Black, 8 GB)\n",
      "₹4,499\n",
      "4.3\n",
      "--------------------------------------------------------------------\n",
      "Redmi Note 6 Pro (Black, 64 GB)\n",
      "₹13,999\n",
      "4.5\n",
      "--------------------------------------------------------------------\n",
      "Redmi Go (Black, 16 GB)\n",
      "₹4,799\n",
      "4.3\n",
      "--------------------------------------------------------------------\n",
      "Redmi 6A (Gold, 32 GB)\n",
      "₹6,670\n",
      "4.3\n",
      "--------------------------------------------------------------------\n"
     ]
    }
   ],
   "source": [
    "i=0\n",
    "for x in name:\n",
    "    data=[]\n",
    "    prod_name=soup.find_all(\"div\",{\"class\":\"_3wU53n\"})\n",
    "    prod_name=prod_name[i].text\n",
    "    \n",
    "    prod_price=soup.find_all(\"div\", {\"class\":\"_1vC4OE _2rQ-NK\"})\n",
    "    prod_price=prod_price[i].text\n",
    "    \n",
    "    prod_rating=soup.find_all(\"div\", {\"class\":\"hGSR34\"})\n",
    "    prod_rating=prod_rating[i].text\n",
    "    \n",
    "    print(prod_name)\n",
    "    print(prod_price)\n",
    "    print(prod_rating)\n",
    "    print(\"--------------------------------------------------------------------\")\n",
    "    \n",
    "    i=i+1\n",
    "    data=data.append([prod_name,prod_price,prod_rating])\n",
    "    f.writerow([data])\n",
    "    "
   ]
  }
 ],
 "metadata": {
  "kernelspec": {
   "display_name": "Python 3",
   "language": "python",
   "name": "python3"
  },
  "language_info": {
   "codemirror_mode": {
    "name": "ipython",
    "version": 3
   },
   "file_extension": ".py",
   "mimetype": "text/x-python",
   "name": "python",
   "nbconvert_exporter": "python",
   "pygments_lexer": "ipython3",
   "version": "3.6.5"
  }
 },
 "nbformat": 4,
 "nbformat_minor": 2
}
